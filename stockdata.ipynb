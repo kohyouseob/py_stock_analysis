{
 "cells": [
  {
   "cell_type": "code",
   "execution_count": 6,
   "id": "53c7fd48",
   "metadata": {},
   "outputs": [
    {
     "name": "stdout",
     "output_type": "stream",
     "text": [
      "     Code        ISU_CD      Name Market Dept   Close ChangeCode  Changes  \\\n",
      "0  005930  KR7005930003      삼성전자  KOSPI        70900          1     1300   \n",
      "1  373220  KR7373220003  LG에너지솔루션  KOSPI       493500          1    91500   \n",
      "2  000660  KR7000660001    SK하이닉스  KOSPI       133000          1     7200   \n",
      "3  207940  KR7207940008  삼성바이오로직스  KOSPI       732000          1    27000   \n",
      "4  005935  KR7005931001     삼성전자우  KOSPI        57200          1      600   \n",
      "\n",
      "   ChagesRatio    Open    High     Low    Volume         Amount  \\\n",
      "0         1.87   69800   70900   69300  22228489  1555019933294   \n",
      "1        22.76  451500  500000  435000   1894906   898455121000   \n",
      "2         5.72  125800  133000  125800   6923192   905341125800   \n",
      "3         3.83  713000  732000  710000     80061    57711239000   \n",
      "4         1.06   57000   57400   56200   1216282    69130154400   \n",
      "\n",
      "            Marcap      Stocks MarketId  \n",
      "0  423257582795000  5969782550      STK  \n",
      "1  115479000000000   234000000      STK  \n",
      "2   96824314545000   728002365      STK  \n",
      "3   52099368000000    71174000      STK  \n",
      "4   47069119240000   822886700      STK  \n"
     ]
    }
   ],
   "source": [
    "import pandas as pd\n",
    "import FinanceDataReader as fdr\n",
    "\n",
    "df_krx = fdr.StockListing('KRX')\n",
    "print(df_krx.head())"
   ]
  },
  {
   "cell_type": "code",
   "execution_count": 7,
   "id": "714420c5",
   "metadata": {
    "scrolled": true
   },
   "outputs": [
    {
     "name": "stdout",
     "output_type": "stream",
     "text": [
      "             Open   High    Low  Close    Volume    Change\n",
      "Date                                                      \n",
      "1999-07-20   3460   3560   3419   3420   1030892       NaN\n",
      "1999-07-21   3370   3380   3160   3330   1186533 -0.026316\n",
      "1999-07-22   3290   3460   3280   3440   1157303  0.033033\n",
      "1999-07-23   3400   3400   3000   3120   1180685 -0.093023\n",
      "1999-07-26   3120   3260   3060   3170   1212761  0.016026\n",
      "...           ...    ...    ...    ...       ...       ...\n",
      "2023-10-31  67600  68300  66900  66900  14488892 -0.005944\n",
      "2023-11-01  67500  68900  67300  68600  13775256  0.025411\n",
      "2023-11-02  70000  70000  69400  69700  16350031  0.016035\n",
      "2023-11-03  69700  70200  69500  69600  10322234 -0.001435\n",
      "2023-11-06  69800  70900  69300  70900  22049882  0.018678\n",
      "\n",
      "[6000 rows x 6 columns]\n"
     ]
    }
   ],
   "source": [
    "df = fdr.DataReader('005930')\n",
    "print(df)"
   ]
  },
  {
   "cell_type": "code",
   "execution_count": 8,
   "id": "1e209ca4",
   "metadata": {},
   "outputs": [
    {
     "data": {
      "text/plain": [
       "(2765, 17)"
      ]
     },
     "execution_count": 8,
     "metadata": {},
     "output_type": "execute_result"
    }
   ],
   "source": [
    "df_krx.shape"
   ]
  },
  {
   "cell_type": "code",
   "execution_count": 9,
   "id": "7dfa76c8",
   "metadata": {},
   "outputs": [
    {
     "name": "stdout",
     "output_type": "stream",
     "text": [
      "<class 'pandas.core.frame.DataFrame'>\n",
      "RangeIndex: 2765 entries, 0 to 2764\n",
      "Data columns (total 17 columns):\n",
      " #   Column       Non-Null Count  Dtype  \n",
      "---  ------       --------------  -----  \n",
      " 0   Code         2765 non-null   object \n",
      " 1   ISU_CD       2765 non-null   object \n",
      " 2   Name         2765 non-null   object \n",
      " 3   Market       2765 non-null   object \n",
      " 4   Dept         2765 non-null   object \n",
      " 5   Close        2765 non-null   object \n",
      " 6   ChangeCode   2765 non-null   object \n",
      " 7   Changes      2765 non-null   int64  \n",
      " 8   ChagesRatio  2765 non-null   float64\n",
      " 9   Open         2765 non-null   int64  \n",
      " 10  High         2765 non-null   int64  \n",
      " 11  Low          2765 non-null   int64  \n",
      " 12  Volume       2765 non-null   int64  \n",
      " 13  Amount       2765 non-null   int64  \n",
      " 14  Marcap       2765 non-null   int64  \n",
      " 15  Stocks       2765 non-null   int64  \n",
      " 16  MarketId     2765 non-null   object \n",
      "dtypes: float64(1), int64(8), object(8)\n",
      "memory usage: 367.4+ KB\n"
     ]
    }
   ],
   "source": [
    "df_krx.info()"
   ]
  },
  {
   "cell_type": "code",
   "execution_count": null,
   "id": "af078edc",
   "metadata": {},
   "outputs": [],
   "source": []
  }
 ],
 "metadata": {
  "kernelspec": {
   "display_name": "Python 3 (ipykernel)",
   "language": "python",
   "name": "python3"
  },
  "language_info": {
   "codemirror_mode": {
    "name": "ipython",
    "version": 3
   },
   "file_extension": ".py",
   "mimetype": "text/x-python",
   "name": "python",
   "nbconvert_exporter": "python",
   "pygments_lexer": "ipython3",
   "version": "3.11.5"
  }
 },
 "nbformat": 4,
 "nbformat_minor": 5
}
