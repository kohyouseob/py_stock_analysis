{
 "cells": [
  {
   "cell_type": "code",
   "execution_count": 1,
   "id": "c6c6eed1",
   "metadata": {},
   "outputs": [],
   "source": [
    "import sys, os, time, datetime    # 서버와 통신할 때 중간중간 시간 지연. 보통은 1초\n",
    "import pandas as pd  # 판다스 : 데이터분석 라이브러리\n",
    "import numpy as np   # 넘파이 : 숫자, 행렬 데이터 라이브러리\n",
    "import requests\n",
    "from urllib.request import urlopen\n",
    "from bs4 import BeautifulSoup\n",
    "\n",
    "from selenium import webdriver   # 웹 브라우저 자동화\n",
    "from selenium.webdriver import ActionChains\n",
    "from selenium.webdriver.common.actions.action_builder import ActionBuilder\n",
    "from selenium.webdriver.common.actions.mouse_button import MouseButton\n",
    "from selenium.webdriver.common.by import By"
   ]
  },
  {
   "cell_type": "code",
   "execution_count": 2,
   "id": "1d1eca53",
   "metadata": {
    "scrolled": true
   },
   "outputs": [],
   "source": [
    "#크롬 웹브라우저 실행\n",
    "driver = webdriver.Chrome()\n",
    "url = \"https://finance.naver.com/sise/theme.nhn?&page=1\"\n",
    "driver.get(url)\n",
    "time.sleep(2)"
   ]
  },
  {
   "cell_type": "code",
   "execution_count": 3,
   "id": "8721914f",
   "metadata": {
    "scrolled": true
   },
   "outputs": [],
   "source": [
    "# 7페이지 for문으로 반복\n",
    "for i in range(7):\n",
    "    html = requests.get('https://finance.naver.com/sise/theme.nhn?&page={}'.format(i + 1))\n",
    "    table = pd.read_html(html.text)\n",
    "    if i == 0:\n",
    "        stock = table[0].dropna().reset_index(drop = True)\n",
    "    else:\n",
    "        stock1 = table[0].dropna().reset_index(drop = True)\n",
    "        stock = pd.concat([stock, stock1])\n",
    "\n",
    "stock = stock.reset_index(drop = True)\n",
    "stock.drop(stock.columns[1:], axis=1, inplace=True) ### 첫째열 제외하고 삭제\n",
    "stock = stock.set_axis(['theme'], axis=1) ### 칼럼 이름 변경"
   ]
  },
  {
   "cell_type": "code",
   "execution_count": 4,
   "id": "ef1abe42",
   "metadata": {
    "scrolled": true
   },
   "outputs": [
    {
     "name": "stdout",
     "output_type": "stream",
     "text": [
      "[['theme    2차', 4, 6], ['theme    2차', 5, 23], ['theme    2차', 6, 15], ['theme    2차', 6, 35], ['theme    K-', 6, 37], ['theme    2차', 7, 12], ['theme    2차', 7, 31]]\n"
     ]
    }
   ],
   "source": [
    "# 2차전지 테마의 인덱스 찾기\n",
    "l = []\n",
    "for i, s in stock.iterrows():\n",
    "    t = s.to_string()\n",
    "    j = t.find('2차전지')\n",
    "    if j > 0:\n",
    "      l.append([t[9:], i+1])  \n",
    "    \n",
    "l_location=[]\n",
    "for idx, i in enumerate(l):\n",
    "    j, k = divmod(i[1], 40)\n",
    "    l_location.append([i[0],j+1,k])\n",
    "print(l_location)"
   ]
  },
  {
   "cell_type": "code",
   "execution_count": 5,
   "id": "50c9680a",
   "metadata": {
    "scrolled": true
   },
   "outputs": [
    {
     "ename": "TypeError",
     "evalue": "'NoneType' object is not callable",
     "output_type": "error",
     "traceback": [
      "\u001b[1;31m---------------------------------------------------------------------------\u001b[0m",
      "\u001b[1;31mTypeError\u001b[0m                                 Traceback (most recent call last)",
      "Cell \u001b[1;32mIn[5], line 21\u001b[0m\n\u001b[0;32m     19\u001b[0m html \u001b[38;5;241m=\u001b[39m requests\u001b[38;5;241m.\u001b[39mget(url)\n\u001b[0;32m     20\u001b[0m soup \u001b[38;5;241m=\u001b[39m BeautifulSoup(html\u001b[38;5;241m.\u001b[39mtext, \u001b[38;5;124m'\u001b[39m\u001b[38;5;124mhtml.parser\u001b[39m\u001b[38;5;124m'\u001b[39m)\n\u001b[1;32m---> 21\u001b[0m company_name \u001b[38;5;241m=\u001b[39m soup\u001b[38;5;241m.\u001b[39mfind_All(attrs\u001b[38;5;241m=\u001b[39m{\u001b[38;5;124m'\u001b[39m\u001b[38;5;124mclass\u001b[39m\u001b[38;5;124m'\u001b[39m: \u001b[38;5;124m'\u001b[39m\u001b[38;5;124mname\u001b[39m\u001b[38;5;124m'\u001b[39m})\n\u001b[0;32m     22\u001b[0m \u001b[38;5;28mprint\u001b[39m(company_name)\n",
      "\u001b[1;31mTypeError\u001b[0m: 'NoneType' object is not callable"
     ]
    }
   ],
   "source": [
    "### 페이지로 이동하여 클릭\n",
    "for i in l_location:\n",
    "    url = ('https://finance.naver.com/sise/theme.nhn?&page={}'.format(i[1]))\n",
    "    driver.get(url)\n",
    "    time.sleep(1)\n",
    "    \n",
    "    quotient, remainder = divmod(i[2], 5)\n",
    "    table_row = i[2] + (quotient * 3) + 3\n",
    "    xpath = ('//*[@id=\"contentarea_left\"]/table[1]/tbody/tr[{}]/td[1]/a'.format(table_row))\n",
    "    clickable = driver.find_element(By.XPATH, xpath)\n",
    "    ActionChains(driver)\\\n",
    "        .click(clickable)\\\n",
    "        .perform()\n",
    "    \n",
    "    url = driver.current_url\n",
    "#     \n",
    "#     table = pd.read_html(html.text)\n",
    "#     html = urllib2.urlopen(url).read()\n",
    "    html = requests.get(url)\n",
    "    soup = BeautifulSoup(html.text, 'html.parser')\n",
    "    company_name = soup.find_All(attrs={'class': 'name'})\n",
    "    print(company_name)\n",
    "    "
   ]
  },
  {
   "cell_type": "code",
   "execution_count": null,
   "id": "6a0fb46a",
   "metadata": {},
   "outputs": [],
   "source": []
  },
  {
   "cell_type": "code",
   "execution_count": null,
   "id": "be4e846b",
   "metadata": {},
   "outputs": [],
   "source": []
  }
 ],
 "metadata": {
  "kernelspec": {
   "display_name": "Python 3 (ipykernel)",
   "language": "python",
   "name": "python3"
  },
  "language_info": {
   "codemirror_mode": {
    "name": "ipython",
    "version": 3
   },
   "file_extension": ".py",
   "mimetype": "text/x-python",
   "name": "python",
   "nbconvert_exporter": "python",
   "pygments_lexer": "ipython3",
   "version": "3.11.5"
  }
 },
 "nbformat": 4,
 "nbformat_minor": 5
}
