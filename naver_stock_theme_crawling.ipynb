{
 "cells": [
  {
   "cell_type": "code",
   "execution_count": 11,
   "id": "c6c6eed1",
   "metadata": {},
   "outputs": [],
   "source": [
    "import sys, os, time, datetime    # 서버와 통신할 때 중간중간 시간 지연. 보통은 1초\n",
    "import pandas as pd  # 판다스 : 데이터분석 라이브러리\n",
    "import numpy as np   # 넘파이 : 숫자, 행렬 데이터 라이브러리\n",
    "import requests\n",
    "from urllib.request import urlopen\n",
    "import urllib\n",
    "\n",
    "from bs4 import BeautifulSoup\n",
    "\n",
    "from selenium import webdriver   # 웹 브라우저 자동화\n",
    "from selenium.webdriver import ActionChains\n",
    "from selenium.webdriver.common.actions.action_builder import ActionBuilder\n",
    "from selenium.webdriver.common.actions.mouse_button import MouseButton\n",
    "from selenium.webdriver.common.by import By\n",
    "\n",
    "import FinanceDataReader as fdr\n",
    "\n",
    "# path = 'C:/Users/Admin/py_stock_analysis/'\n",
    "path = 'C:/Users/kohyo/Documents/py_stock_analysis/py_stock_analysis/'"
   ]
  },
  {
   "cell_type": "code",
   "execution_count": 2,
   "id": "1d1eca53",
   "metadata": {
    "scrolled": true
   },
   "outputs": [],
   "source": [
    "#크롬 웹브라우저 실행\n",
    "driver = webdriver.Chrome()\n",
    "url = \"https://finance.naver.com/sise/theme.nhn?&page=1\"\n",
    "driver.get(url)\n",
    "time.sleep(2)"
   ]
  },
  {
   "cell_type": "code",
   "execution_count": null,
   "id": "8721914f",
   "metadata": {
    "scrolled": true
   },
   "outputs": [],
   "source": [
    "# 7페이지 for문으로 반복하여 테마명 데이타 \n",
    "for i in range(7):\n",
    "    html = requests.get('https://finance.naver.com/sise/theme.nhn?&page={}'.format(i + 1))\n",
    "    table = pd.read_html(html.text)\n",
    "    if i == 0:\n",
    "        stock = table[0].dropna().reset_index(drop = True)\n",
    "    else:\n",
    "        stock1 = table[0].dropna().reset_index(drop = True)\n",
    "        stock = pd.concat([stock, stock1])\n",
    "\n",
    "stock = stock.reset_index(drop = True)\n",
    "stock.drop(stock.columns[1:], axis=1, inplace=True) ### 첫째열 제외하고 삭제\n",
    "stock = stock.set_axis(['theme'], axis=1) ### 칼럼 이름 변경\n",
    "pd.options.display.max_rows = 4000\n",
    "print(stock)"
   ]
  },
  {
   "cell_type": "code",
   "execution_count": null,
   "id": "50c9680a",
   "metadata": {
    "scrolled": true
   },
   "outputs": [],
   "source": [
    "### 1페이지부터 7페이지까지 모두 이동하면서 모든 행을 클릭해서 테마이름별 No 정보 취함\n",
    "def theme_url_load(page):\n",
    "    url = ('https://finance.naver.com/sise/theme.nhn?&page={}'.format(page))\n",
    "    driver.get(url)\n",
    "    time.sleep(1)\n",
    "k=1\n",
    "l_data = []\n",
    "\n",
    "first_url = \"https://finance.naver.com/sise/theme.naver\"\n",
    "driver.get(first_url)\n",
    "print('테마개수 : {0}'.format(len(stock)))\n",
    "\n",
    "for i in range(1, 7):\n",
    "    theme_url_load(i)\n",
    "    for j in range(1,40):\n",
    "        if k <= len(stock):\n",
    "            print(i, j, k)\n",
    "            quotient, remainder = divmod(j, 5)\n",
    "            if remainder == 0:\n",
    "                quotient-=1\n",
    "            table_row = j + (quotient+1) * 3    \n",
    "                        \n",
    "            xpath = ('//*[@id=\"contentarea_left\"]/table[1]/tbody/tr[{}]/td[1]/a'.format(table_row))\n",
    "            print(table_row, xpath)\n",
    "            \n",
    "            clickable = driver.find_element(By.XPATH, xpath)\n",
    "            ActionChains(driver)\\\n",
    "                .click(clickable)\\\n",
    "                .perform()\n",
    "            \n",
    "            url = driver.current_url ### 페이지의 URL을 받음           \n",
    "            html = requests.get(url)\n",
    "            # using the BeautifulSoup module\n",
    "            soup = BeautifulSoup(html.text, 'html.parser')\n",
    "\n",
    "            for title in soup.find_all('title'):\n",
    "                str_title = title.get_text().strip()\n",
    "            x = str_title.find(':')\n",
    "            str_title = str_title[:x-1]\n",
    "            print(str_title, url)\n",
    "            l_data.append([str_title, url])\n",
    "            k += 1\n",
    "            driver.back()\n",
    "            time.sleep(1)\n",
    "\n",
    "print(l_data)  \n",
    "\n",
    "path = 'C:/Users/Admin/py_stock_analysis/'\n",
    "\n",
    "df = pd.DataFrame(l_data)\n",
    "df.to_csv(path+'thema_url.csv', encoding='utf-8', index=False)"
   ]
  },
  {
   "cell_type": "code",
   "execution_count": 72,
   "id": "be4e846b",
   "metadata": {},
   "outputs": [
    {
     "data": {
      "text/html": [
       "<div>\n",
       "<style scoped>\n",
       "    .dataframe tbody tr th:only-of-type {\n",
       "        vertical-align: middle;\n",
       "    }\n",
       "\n",
       "    .dataframe tbody tr th {\n",
       "        vertical-align: top;\n",
       "    }\n",
       "\n",
       "    .dataframe thead th {\n",
       "        text-align: right;\n",
       "    }\n",
       "</style>\n",
       "<table border=\"1\" class=\"dataframe\">\n",
       "  <thead>\n",
       "    <tr style=\"text-align: right;\">\n",
       "      <th></th>\n",
       "      <th>theme</th>\n",
       "      <th>url</th>\n",
       "      <th>theme_no</th>\n",
       "    </tr>\n",
       "  </thead>\n",
       "  <tbody>\n",
       "    <tr>\n",
       "      <th>0</th>\n",
       "      <td>야놀자(Yanolja)</td>\n",
       "      <td>https://finance.naver.com/sise/sise_group_deta...</td>\n",
       "      <td>483</td>\n",
       "    </tr>\n",
       "    <tr>\n",
       "      <th>1</th>\n",
       "      <td>인터넷 대표주</td>\n",
       "      <td>https://finance.naver.com/sise/sise_group_deta...</td>\n",
       "      <td>49</td>\n",
       "    </tr>\n",
       "    <tr>\n",
       "      <th>2</th>\n",
       "      <td>일자리(취업)</td>\n",
       "      <td>https://finance.naver.com/sise/sise_group_deta...</td>\n",
       "      <td>324</td>\n",
       "    </tr>\n",
       "    <tr>\n",
       "      <th>3</th>\n",
       "      <td>가상화폐(비트코인 등)</td>\n",
       "      <td>https://finance.naver.com/sise/sise_group_deta...</td>\n",
       "      <td>331</td>\n",
       "    </tr>\n",
       "    <tr>\n",
       "      <th>4</th>\n",
       "      <td>건설 대표주</td>\n",
       "      <td>https://finance.naver.com/sise/sise_group_deta...</td>\n",
       "      <td>154</td>\n",
       "    </tr>\n",
       "  </tbody>\n",
       "</table>\n",
       "</div>"
      ],
      "text/plain": [
       "          theme                                                url theme_no\n",
       "0  야놀자(Yanolja)  https://finance.naver.com/sise/sise_group_deta...      483\n",
       "1       인터넷 대표주  https://finance.naver.com/sise/sise_group_deta...       49\n",
       "2       일자리(취업)  https://finance.naver.com/sise/sise_group_deta...      324\n",
       "3  가상화폐(비트코인 등)  https://finance.naver.com/sise/sise_group_deta...      331\n",
       "4        건설 대표주  https://finance.naver.com/sise/sise_group_deta...      154"
      ]
     },
     "execution_count": 72,
     "metadata": {},
     "output_type": "execute_result"
    }
   ],
   "source": [
    "# 테마 csv 파일을 읽고 url애서 테마의 no를 추출\n",
    "columns = ['theme', 'url']\n",
    "df = pd.read_csv(path+'thema_url.csv', names=columns, encoding='utf-8', header=None, skiprows=1)\n",
    "\n",
    "df['theme_no'] = df['url'].str[69:]\n",
    "df.head()"
   ]
  },
  {
   "cell_type": "code",
   "execution_count": null,
   "metadata": {},
   "outputs": [],
   "source": [
    "# 테마별 url에 들어가서 주식종목별 데이타 입수\n",
    "l_data = []\n",
    "for d in df.iterrows():\n",
    "    theme = d[1][0]\n",
    "    theme_no = d[1][2]\n",
    "    url = urllib.parse.quote_plus(d[1][1], \"/:?=&\") # need this line\n",
    "    driver.get(url)\n",
    "    html = requests.get(url)\n",
    "    # using the BeautifulSoup module\n",
    "    soup = BeautifulSoup(html.text, 'html.parser')\n",
    "\n",
    "    for row in soup.select('tbody tr'):\n",
    "        row_text = [x.text for x in row.find_all('td')]\n",
    "        if row_text[0] != '':\n",
    "            if row_text[0][-1:] == '*':\n",
    "                market = 'kosdaq'\n",
    "            else: market = 'kospi'\n",
    "            print(theme, theme_no, market, row_text[0])\n",
    "            l_data.append([theme, theme_no, market, row_text[0]])\n",
    "df = pd.DataFrame(l_data)\n",
    "df.to_csv(path+'thema_stock.csv', encoding='utf-8', index=False)"
   ]
  },
  {
   "cell_type": "code",
   "execution_count": 12,
   "metadata": {},
   "outputs": [
    {
     "name": "stderr",
     "output_type": "stream",
     "text": [
      "c:\\anaconda3\\Lib\\site-packages\\openpyxl\\styles\\stylesheet.py:226: UserWarning: Workbook contains no default style, apply openpyxl's default\n",
      "  warn(\"Workbook contains no default style, apply openpyxl's default\")\n"
     ]
    },
    {
     "data": {
      "text/html": [
       "<div>\n",
       "<style scoped>\n",
       "    .dataframe tbody tr th:only-of-type {\n",
       "        vertical-align: middle;\n",
       "    }\n",
       "\n",
       "    .dataframe tbody tr th {\n",
       "        vertical-align: top;\n",
       "    }\n",
       "\n",
       "    .dataframe thead th {\n",
       "        text-align: right;\n",
       "    }\n",
       "</style>\n",
       "<table border=\"1\" class=\"dataframe\">\n",
       "  <thead>\n",
       "    <tr style=\"text-align: right;\">\n",
       "      <th></th>\n",
       "      <th>표준코드</th>\n",
       "      <th>단축코드</th>\n",
       "      <th>한글 종목명</th>\n",
       "      <th>한글 종목약명</th>\n",
       "      <th>영문 종목명</th>\n",
       "      <th>상장일</th>\n",
       "      <th>시장구분</th>\n",
       "      <th>증권구분</th>\n",
       "      <th>소속부</th>\n",
       "      <th>주식종류</th>\n",
       "      <th>액면가</th>\n",
       "      <th>상장주식수</th>\n",
       "      <th>theme</th>\n",
       "      <th>theme no</th>\n",
       "    </tr>\n",
       "  </thead>\n",
       "  <tbody>\n",
       "    <tr>\n",
       "      <th>0</th>\n",
       "      <td>KR7050120005</td>\n",
       "      <td>050120</td>\n",
       "      <td>ES큐브</td>\n",
       "      <td>ES큐브</td>\n",
       "      <td>ES CUBE</td>\n",
       "      <td>2002/04/25</td>\n",
       "      <td>KOSDAQ</td>\n",
       "      <td>주권</td>\n",
       "      <td>벤처기업부</td>\n",
       "      <td>보통주</td>\n",
       "      <td>5000</td>\n",
       "      <td>13564086</td>\n",
       "      <td>가상화폐(비트코인 등)</td>\n",
       "      <td>331</td>\n",
       "    </tr>\n",
       "    <tr>\n",
       "      <th>1</th>\n",
       "      <td>KR7024850000</td>\n",
       "      <td>024850</td>\n",
       "      <td>HLB이노베이션</td>\n",
       "      <td>HLB이노베이션</td>\n",
       "      <td>HLB innoVation</td>\n",
       "      <td>2001/01/18</td>\n",
       "      <td>KOSDAQ</td>\n",
       "      <td>주권</td>\n",
       "      <td>중견기업부</td>\n",
       "      <td>보통주</td>\n",
       "      <td>500</td>\n",
       "      <td>66507231</td>\n",
       "      <td>반도체 재료/부품</td>\n",
       "      <td>14</td>\n",
       "    </tr>\n",
       "    <tr>\n",
       "      <th>2</th>\n",
       "      <td>KR7024120008</td>\n",
       "      <td>024120</td>\n",
       "      <td>KB오토시스</td>\n",
       "      <td>KB오토시스</td>\n",
       "      <td>KB Autosys Co.,Ltd</td>\n",
       "      <td>1994/12/07</td>\n",
       "      <td>KOSDAQ</td>\n",
       "      <td>주권</td>\n",
       "      <td>중견기업부</td>\n",
       "      <td>보통주</td>\n",
       "      <td>500</td>\n",
       "      <td>11500000</td>\n",
       "      <td>자동차부품</td>\n",
       "      <td>27</td>\n",
       "    </tr>\n",
       "    <tr>\n",
       "      <th>3</th>\n",
       "      <td>KR7044180008</td>\n",
       "      <td>044180</td>\n",
       "      <td>KD</td>\n",
       "      <td>KD</td>\n",
       "      <td>KD Corporation</td>\n",
       "      <td>2000/11/16</td>\n",
       "      <td>KOSDAQ</td>\n",
       "      <td>주권</td>\n",
       "      <td>투자주의환기종목(소속부없음)</td>\n",
       "      <td>보통주</td>\n",
       "      <td>500</td>\n",
       "      <td>26717799</td>\n",
       "      <td>건설 중소형</td>\n",
       "      <td>322</td>\n",
       "    </tr>\n",
       "    <tr>\n",
       "      <th>4</th>\n",
       "      <td>KR7086960002</td>\n",
       "      <td>086960</td>\n",
       "      <td>MDS테크</td>\n",
       "      <td>MDS테크</td>\n",
       "      <td>MDS Tech</td>\n",
       "      <td>2006/09/26</td>\n",
       "      <td>KOSDAQ</td>\n",
       "      <td>주권</td>\n",
       "      <td>중견기업부</td>\n",
       "      <td>보통주</td>\n",
       "      <td>200</td>\n",
       "      <td>87578536</td>\n",
       "      <td>NFT(대체불가토큰)</td>\n",
       "      <td>492</td>\n",
       "    </tr>\n",
       "  </tbody>\n",
       "</table>\n",
       "</div>"
      ],
      "text/plain": [
       "           표준코드    단축코드    한글 종목명   한글 종목약명              영문 종목명         상장일  \\\n",
       "0  KR7050120005  050120      ES큐브      ES큐브             ES CUBE  2002/04/25   \n",
       "1  KR7024850000  024850  HLB이노베이션  HLB이노베이션      HLB innoVation  2001/01/18   \n",
       "2  KR7024120008  024120    KB오토시스    KB오토시스  KB Autosys Co.,Ltd  1994/12/07   \n",
       "3  KR7044180008  044180        KD        KD      KD Corporation  2000/11/16   \n",
       "4  KR7086960002  086960     MDS테크     MDS테크            MDS Tech  2006/09/26   \n",
       "\n",
       "     시장구분 증권구분              소속부 주식종류   액면가     상장주식수         theme  theme no  \n",
       "0  KOSDAQ   주권            벤처기업부  보통주  5000  13564086  가상화폐(비트코인 등)       331  \n",
       "1  KOSDAQ   주권            중견기업부  보통주   500  66507231     반도체 재료/부품        14  \n",
       "2  KOSDAQ   주권            중견기업부  보통주   500  11500000         자동차부품        27  \n",
       "3  KOSDAQ   주권  투자주의환기종목(소속부없음)  보통주   500  26717799        건설 중소형       322  \n",
       "4  KOSDAQ   주권            중견기업부  보통주   200  87578536   NFT(대체불가토큰)       492  "
      ]
     },
     "execution_count": 12,
     "metadata": {},
     "output_type": "execute_result"
    }
   ],
   "source": [
    "### 테마 주식종목을 import\n",
    "columns = ['theme', 'theme no', 'market', 'stock']\n",
    "df_theme = pd.read_csv(path+'thema_stock.csv', names=columns, encoding='utf-8', header=None, skiprows=1)\n",
    "# 종목명에서 *를 제거해야함\n",
    "df_theme['stock'] = df_theme['stock'].str.replace(' *', '')\n",
    "# 종목정보 데이타를 Import\n",
    "df_stock = pd.read_excel(path+'stock_code.xlsx')\n",
    "# df_stock에 df_theme를 map해서 테마명을 열에 추가\n",
    "df_stock = df_stock.merge(df_theme, left_on='한글 종목명', right_on='stock')\n",
    "df_stock.drop(columns=['market', 'stock'], inplace=True)\n",
    "df_stock.head()"
   ]
  },
  {
   "cell_type": "code",
   "execution_count": 16,
   "metadata": {},
   "outputs": [
    {
     "name": "stderr",
     "output_type": "stream",
     "text": [
      "C:\\Users\\kohyo\\AppData\\Local\\Temp\\ipykernel_5224\\2568542673.py:14: FutureWarning: Series.__getitem__ treating keys as positions is deprecated. In a future version, integer keys will always be treated as labels (consistent with DataFrame behavior). To access a value by position, use `ser.iloc[pos]`\n",
      "  stock[idx][0]\n"
     ]
    }
   ],
   "source": [
    "# df_stock을 한 행씩 돌면서 각 종목의 과거 20년치 주가데이터 및 공시자료를 다운로드해서 각각 파일로 저장\n",
    "# target = '삼성전자'\n",
    "# start = '20100101'\n",
    "# end = '20101231'\n",
    "\n",
    "# symbols = pd.read_csv('./krx_stock_symbols.csv')\n",
    "# code = symbols[symbols['Name'] == target]['Code'].iloc[0]\n",
    "\n",
    "# stock_data = fdr.DataReader(code, start, end)\n",
    "\n",
    "# stock_data.to_csv('./stock_price.csv')\n",
    "for idx, stock in df_stock.iterrows():\n",
    "    if idx < 5:\n",
    "        stock[idx][0]\n",
    "    else: break"
   ]
  },
  {
   "cell_type": "code",
   "execution_count": 8,
   "metadata": {},
   "outputs": [],
   "source": [
    "# [기본분석 1] PBR, PER, ROE, EPS 산출"
   ]
  },
  {
   "cell_type": "code",
   "execution_count": 9,
   "metadata": {},
   "outputs": [],
   "source": [
    "# [기본분석 2] PBR, PER, ROE, EPS의 성장율과 주가수익 간의 상관관계 산출, 지표별 연간실적대비, 차년의 연초 주가대비 연말 주가 성장율로 상관관계 산출\n",
    "# 종목코드, 종목명, 연도 2023, 연초주가, 연말주가, 주가성장율, PBR 전전년, PBR 전년, PBR성장율, PBR상관계수, PER 전전년, PER 전년, PER상관계수, ROE 전전년, ROE 전년, ROE 상관계수, EPS 전전년, EPS 전년, EPS 상관계수"
   ]
  },
  {
   "cell_type": "code",
   "execution_count": null,
   "metadata": {},
   "outputs": [],
   "source": [
    "# [기본분석 3] 테마별 기본분석 1~2 수행, 테마내 최우수 3개 종목 탐색"
   ]
  },
  {
   "cell_type": "code",
   "execution_count": 10,
   "metadata": {},
   "outputs": [],
   "source": [
    "# [차트 1] 종목별 주가 데이타를 활용해서 현재 정배열 상태인지 여부 학인 (20일 > 60일> 120일 > 200일)\n",
    "# 정배열인 경우 일봉 차트 출력"
   ]
  },
  {
   "cell_type": "code",
   "execution_count": 7,
   "metadata": {},
   "outputs": [],
   "source": [
    "# [차트 2] 종목별 주가 데이타를 활용해서 골든 크로스 발생 여부 확인 20일선, 60일선 120일선 200일선\n",
    "# 골든크로스인 경우 일봉 차트 출력"
   ]
  },
  {
   "cell_type": "code",
   "execution_count": null,
   "metadata": {},
   "outputs": [],
   "source": [
    "# [차트 3] 차트1, 차트2에 해당하는 기업의 거래량 증가여부 확인"
   ]
  },
  {
   "cell_type": "code",
   "execution_count": 11,
   "metadata": {},
   "outputs": [],
   "source": [
    "# [차트 4] 차트1~4 기업의 RSI 과열여부 확인"
   ]
  },
  {
   "cell_type": "code",
   "execution_count": null,
   "metadata": {},
   "outputs": [],
   "source": [
    "# [차트 4] 테마별, 종목별 분기별 주가, 거래량 증가율 - 시장관심 종목 탐색 (시장평균 증가율대비 상위)"
   ]
  },
  {
   "cell_type": "code",
   "execution_count": null,
   "metadata": {},
   "outputs": [],
   "source": [
    "# [차트 5] 거래량 급증 테마, 종목 확인, 과거 10년 평균대비\n",
    "# 거래량 급증종목 차트 출력"
   ]
  },
  {
   "cell_type": "code",
   "execution_count": null,
   "metadata": {},
   "outputs": [],
   "source": []
  }
 ],
 "metadata": {
  "kernelspec": {
   "display_name": "Python 3 (ipykernel)",
   "language": "python",
   "name": "python3"
  },
  "language_info": {
   "codemirror_mode": {
    "name": "ipython",
    "version": 3
   },
   "file_extension": ".py",
   "mimetype": "text/x-python",
   "name": "python",
   "nbconvert_exporter": "python",
   "pygments_lexer": "ipython3",
   "version": "3.11.5"
  }
 },
 "nbformat": 4,
 "nbformat_minor": 5
}
